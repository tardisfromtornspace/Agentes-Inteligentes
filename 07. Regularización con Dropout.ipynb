{
 "cells": [
  {
   "cell_type": "markdown",
   "id": "010176d1",
   "metadata": {},
   "source": [
    "<div><img style=\"float: right; width: 120px; vertical-align:middle\" src=\"https://www.upm.es/sfs/Rectorado/Gabinete%20del%20Rector/Logos/EU_Informatica/ETSI%20SIST_INFORM_COLOR.png\" alt=\"ETSISI logo\" />\n",
    "\n",
    "\n",
    "# Regularización con Dropout<a id=\"top\"></a>\n",
    "\n",
    "<i><small>Autor: Alberto Díaz Álvarez<br>Última actualización: 2023-03-05</small></i></div>\n",
    "                                                  \n",
    "\n",
    "***"
   ]
  },
  {
   "cell_type": "markdown",
   "id": "554fb61b",
   "metadata": {},
   "source": [
    "## Introducción"
   ]
  },
  {
   "cell_type": "markdown",
   "id": "d7290d50",
   "metadata": {},
   "source": [
    "Pensemos brevemente en lo que se espera de un buen modelo predictivo. Queremos que funcione bien con datos no vistos. La teoría clásica de la generalización siempre ha sugerido que, para cerrar la brecha entre el rendimiento del modelo con los datos de entrenamiento y los de test, debemos aspirar a un modelo simple.\n",
    "\n",
    "Sin embargo, en 2014 [Srivastava et. al](https://www.jmlr.org/papers/volume15/srivastava14a/srivastava14a.pdf). propusieron un nuevo punto de vista a la hora de generalizar. Curiosamente la analogía la realizaron con la reproducción sexual. Los autores argumentaron que el _overfitting_ de las redes neuronales se caracteriza por un estado en el que **cada capa se basa en un patrón específico de activaciones de la capa anterior**, lo que denominan **coadaptación**. El _dropout_, según ellos, rompe esta coadaptación de igual forma que la reproducción sexual rompe los genes coadaptados.\n",
    "\n",
    "En esta técnica de regularización, se desactiva una fracción de las neuronas de cada capa, dejando la inferencia y el posterior entrenamiento a la fracción de nodos que fueron retenidos.\n",
    "\n",
    "![Esquema de un MLP antes y después del aplicar Dropout](Images/dropout.png \"Esquema de un MLP antes y después del aplicar Dropout\")\n",
    "\n",
    "Normalmente, desactivamos el Dropout en el momento que el entrenamiento ha finalizado y queremos probar el conjunto de test. No descartamos ningún nodo y, por tanto, no necesitamos normalizar. Sin embargo, existen algunas excepciones: algunos autores utilizan el _dropout_ también durante el cálculo de la exactitud con el conjunto de test como heurística de la incertidumbre de las predicciones de la red neuronal. Es decir, si las predicciones coinciden en muchas premutaciones diferentes de _dropout_ diferentes, entonces podríamos afirmar con cierta confianza que nuestro modelo es más seguro."
   ]
  },
  {
   "cell_type": "markdown",
   "id": "8f243ba3",
   "metadata": {},
   "source": [
    "## Objetivos"
   ]
  },
  {
   "cell_type": "markdown",
   "id": "cefe2634",
   "metadata": {},
   "source": [
    "El objetivo será la implementación de un modelo de perceptrón multicapa potente, que sea capaz de clasificar los datos del conjunto de datos mnist, pero que a su vez se haya regularizado mediante _dropout_ para intentar que su potencia no afecta a su capacidad de generalización."
   ]
  },
  {
   "cell_type": "markdown",
   "id": "67582fcc",
   "metadata": {},
   "source": [
    "## Bibliotecas y configuración\n",
    "\n",
    "A continuación importaremos las bibliotecas que se utilizarán a lo largo del _notebook_."
   ]
  },
  {
   "cell_type": "code",
   "execution_count": 1,
   "id": "58374f16",
   "metadata": {},
   "outputs": [],
   "source": [
    "import matplotlib.pyplot as plt\n",
    "import tensorflow as tf\n",
    "from tensorflow.keras.utils import to_categorical"
   ]
  },
  {
   "cell_type": "markdown",
   "id": "174e97df",
   "metadata": {},
   "source": [
    "Configuraremos también algunos parámetros para adecuar la presentación gráfica."
   ]
  },
  {
   "cell_type": "code",
   "execution_count": 2,
   "id": "aca72f44",
   "metadata": {},
   "outputs": [],
   "source": [
    "%matplotlib inline\n",
    "plt.style.use('ggplot')\n",
    "plt.rcParams.update({'figure.figsize': (20, 6),'figure.dpi': 64})"
   ]
  },
  {
   "cell_type": "markdown",
   "id": "06541e93",
   "metadata": {},
   "source": [
    "***"
   ]
  },
  {
   "cell_type": "markdown",
   "id": "a9aec0b7",
   "metadata": {},
   "source": [
    "## Preparación de los datos"
   ]
  },
  {
   "cell_type": "markdown",
   "id": "54c37e7e",
   "metadata": {},
   "source": [
    "Usaremos el dataset de `mnist` como hemos hecho hasta ahora:"
   ]
  },
  {
   "cell_type": "code",
   "execution_count": 3,
   "id": "88d8acf8",
   "metadata": {},
   "outputs": [],
   "source": [
    "(x_train, y_train), (x_test, y_test) = tf.keras.datasets.mnist.load_data()\n",
    "\n",
    "x_train, x_test = x_train / 255, x_test / 255\n",
    "y_train = to_categorical(y_train, num_classes=10)\n",
    "y_test = to_categorical(y_test, num_classes=10)"
   ]
  },
  {
   "cell_type": "markdown",
   "id": "eda1e618",
   "metadata": {},
   "source": [
    "## Implementando _dropout_ con Keras"
   ]
  },
  {
   "cell_type": "markdown",
   "id": "7a7362f3",
   "metadata": {},
   "source": [
    "La verdad es que es extremadamente fácil. Con Keras (y en general con cualquier API de alto nivel), todo lo que tenemos que hacer es añadir una capa _Dropout_ tras la capa conectada a la que le queremos aplicar la regularización. El único parámetro a pasar al constructor es la probabilidad de que una neurona sea o no desactivada.\n",
    "\n",
    "Durante el entrenamiento, la capa _Dropout_ dejará caer aleatoriamente las salidas de la capa anterior (y, por lo tanto, las entradas de la capa siguiente) de acuerdo con la probabilidad especificada. Cuando no está en modo de entrenamiento, la capa _Dropout_ simplemente pasa los datos sin modificarlos.\n",
    "\n",
    "Veamos primero cómo funcionarían dos modelos similares para el problema del MNIST. Primero uno sin _dropout_"
   ]
  },
  {
   "cell_type": "code",
   "execution_count": 4,
   "id": "3c9d8b7e",
   "metadata": {},
   "outputs": [
    {
     "name": "stdout",
     "output_type": "stream",
     "text": [
      "Model: \"sequential\"\n",
      "_________________________________________________________________\n",
      " Layer (type)                Output Shape              Param #   \n",
      "=================================================================\n",
      " flatten (Flatten)           (None, 784)               0         \n",
      "                                                                 \n",
      " dense (Dense)               (None, 128)               100480    \n",
      "                                                                 \n",
      " dense_1 (Dense)             (None, 10)                1290      \n",
      "                                                                 \n",
      "=================================================================\n",
      "Total params: 101,770\n",
      "Trainable params: 101,770\n",
      "Non-trainable params: 0\n",
      "_________________________________________________________________\n",
      "Epoch 1/100\n",
      "1688/1688 [==============================] - 3s 2ms/step - loss: 0.2708 - accuracy: 0.9234 - val_loss: 0.1204 - val_accuracy: 0.9668\n",
      "Epoch 2/100\n",
      "1688/1688 [==============================] - 2s 1ms/step - loss: 0.1192 - accuracy: 0.9644 - val_loss: 0.0955 - val_accuracy: 0.9713\n",
      "Epoch 3/100\n",
      "1688/1688 [==============================] - 2s 1ms/step - loss: 0.0813 - accuracy: 0.9755 - val_loss: 0.0864 - val_accuracy: 0.9758\n",
      "Epoch 4/100\n",
      "1688/1688 [==============================] - 2s 1ms/step - loss: 0.0617 - accuracy: 0.9817 - val_loss: 0.0886 - val_accuracy: 0.9765\n",
      "Epoch 5/100\n",
      "1688/1688 [==============================] - 2s 1ms/step - loss: 0.0482 - accuracy: 0.9850 - val_loss: 0.0795 - val_accuracy: 0.9782\n",
      "Epoch 6/100\n",
      "1688/1688 [==============================] - 2s 1ms/step - loss: 0.0362 - accuracy: 0.9892 - val_loss: 0.0768 - val_accuracy: 0.9798\n",
      "Epoch 7/100\n",
      "1688/1688 [==============================] - 2s 1ms/step - loss: 0.0302 - accuracy: 0.9904 - val_loss: 0.0725 - val_accuracy: 0.9807\n",
      "Epoch 8/100\n",
      "1688/1688 [==============================] - 2s 1ms/step - loss: 0.0234 - accuracy: 0.9927 - val_loss: 0.0842 - val_accuracy: 0.9797\n",
      "Epoch 9/100\n",
      "1688/1688 [==============================] - 2s 1ms/step - loss: 0.0190 - accuracy: 0.9941 - val_loss: 0.0805 - val_accuracy: 0.9797\n",
      "Epoch 10/100\n",
      "1688/1688 [==============================] - 2s 1ms/step - loss: 0.0167 - accuracy: 0.9950 - val_loss: 0.0819 - val_accuracy: 0.9805\n",
      "Epoch 11/100\n",
      "1688/1688 [==============================] - 2s 1ms/step - loss: 0.0124 - accuracy: 0.9966 - val_loss: 0.0853 - val_accuracy: 0.9812\n",
      "Epoch 12/100\n",
      "1688/1688 [==============================] - 2s 1ms/step - loss: 0.0119 - accuracy: 0.9963 - val_loss: 0.0840 - val_accuracy: 0.9800\n",
      "Epoch 13/100\n",
      "1688/1688 [==============================] - 2s 1ms/step - loss: 0.0097 - accuracy: 0.9971 - val_loss: 0.0915 - val_accuracy: 0.9795\n",
      "Epoch 14/100\n",
      "1688/1688 [==============================] - 2s 1ms/step - loss: 0.0077 - accuracy: 0.9978 - val_loss: 0.0879 - val_accuracy: 0.9825\n",
      "Epoch 15/100\n",
      "1688/1688 [==============================] - 2s 1ms/step - loss: 0.0082 - accuracy: 0.9975 - val_loss: 0.1148 - val_accuracy: 0.9775\n",
      "Epoch 16/100\n",
      "1688/1688 [==============================] - 2s 1ms/step - loss: 0.0086 - accuracy: 0.9973 - val_loss: 0.1043 - val_accuracy: 0.9797\n",
      "Epoch 17/100\n",
      "1688/1688 [==============================] - 2s 1ms/step - loss: 0.0060 - accuracy: 0.9981 - val_loss: 0.0976 - val_accuracy: 0.9830\n",
      "Epoch 18/100\n",
      "1688/1688 [==============================] - 3s 1ms/step - loss: 0.0072 - accuracy: 0.9978 - val_loss: 0.1090 - val_accuracy: 0.9793\n",
      "Epoch 19/100\n",
      "1688/1688 [==============================] - 2s 1ms/step - loss: 0.0050 - accuracy: 0.9982 - val_loss: 0.1012 - val_accuracy: 0.9803\n",
      "Epoch 20/100\n",
      "1688/1688 [==============================] - 2s 1ms/step - loss: 0.0040 - accuracy: 0.9988 - val_loss: 0.1159 - val_accuracy: 0.9787\n",
      "Epoch 21/100\n",
      "1688/1688 [==============================] - 2s 1ms/step - loss: 0.0077 - accuracy: 0.9975 - val_loss: 0.1170 - val_accuracy: 0.9800\n",
      "Epoch 22/100\n",
      "1688/1688 [==============================] - 2s 1ms/step - loss: 0.0022 - accuracy: 0.9995 - val_loss: 0.1035 - val_accuracy: 0.9812\n",
      "Epoch 23/100\n",
      "1688/1688 [==============================] - 2s 1ms/step - loss: 0.0056 - accuracy: 0.9982 - val_loss: 0.1203 - val_accuracy: 0.9798\n",
      "Epoch 24/100\n",
      "1688/1688 [==============================] - 2s 1ms/step - loss: 0.0026 - accuracy: 0.9994 - val_loss: 0.1089 - val_accuracy: 0.9825\n",
      "Epoch 25/100\n",
      "1688/1688 [==============================] - 2s 1ms/step - loss: 0.0048 - accuracy: 0.9986 - val_loss: 0.1223 - val_accuracy: 0.9800\n",
      "Epoch 26/100\n",
      "1688/1688 [==============================] - 2s 1ms/step - loss: 0.0046 - accuracy: 0.9986 - val_loss: 0.1153 - val_accuracy: 0.9813\n",
      "Epoch 27/100\n",
      "1688/1688 [==============================] - 2s 1ms/step - loss: 0.0017 - accuracy: 0.9996 - val_loss: 0.1094 - val_accuracy: 0.9825\n",
      "Epoch 28/100\n",
      "1688/1688 [==============================] - 2s 1ms/step - loss: 0.0050 - accuracy: 0.9984 - val_loss: 0.1218 - val_accuracy: 0.9797\n",
      "Epoch 29/100\n",
      "1688/1688 [==============================] - 2s 1ms/step - loss: 0.0041 - accuracy: 0.9985 - val_loss: 0.1156 - val_accuracy: 0.9820\n",
      "Epoch 30/100\n",
      "1688/1688 [==============================] - 2s 1ms/step - loss: 0.0012 - accuracy: 0.9997 - val_loss: 0.1192 - val_accuracy: 0.9832\n",
      "Epoch 31/100\n",
      "1688/1688 [==============================] - 2s 1ms/step - loss: 0.0049 - accuracy: 0.9985 - val_loss: 0.1347 - val_accuracy: 0.9802\n",
      "Epoch 32/100\n",
      "1688/1688 [==============================] - 2s 1ms/step - loss: 0.0031 - accuracy: 0.9989 - val_loss: 0.1206 - val_accuracy: 0.9832\n",
      "Epoch 33/100\n",
      "1688/1688 [==============================] - 2s 1ms/step - loss: 0.0033 - accuracy: 0.9989 - val_loss: 0.1314 - val_accuracy: 0.9830\n",
      "Epoch 34/100\n",
      "1688/1688 [==============================] - 2s 1ms/step - loss: 0.0031 - accuracy: 0.9989 - val_loss: 0.1327 - val_accuracy: 0.9820\n",
      "Epoch 35/100\n",
      "1688/1688 [==============================] - 2s 1ms/step - loss: 0.0036 - accuracy: 0.9989 - val_loss: 0.1489 - val_accuracy: 0.9798\n",
      "Epoch 36/100\n",
      "1688/1688 [==============================] - 2s 1ms/step - loss: 0.0043 - accuracy: 0.9986 - val_loss: 0.1424 - val_accuracy: 0.9818\n",
      "Epoch 37/100\n",
      "1688/1688 [==============================] - 2s 1ms/step - loss: 0.0023 - accuracy: 0.9992 - val_loss: 0.1410 - val_accuracy: 0.9830\n",
      "Epoch 38/100\n",
      "1688/1688 [==============================] - 2s 1ms/step - loss: 0.0034 - accuracy: 0.9989 - val_loss: 0.1512 - val_accuracy: 0.9797\n",
      "Epoch 39/100\n",
      "1688/1688 [==============================] - 2s 1ms/step - loss: 0.0023 - accuracy: 0.9993 - val_loss: 0.1376 - val_accuracy: 0.9847\n",
      "Epoch 40/100\n",
      "1688/1688 [==============================] - 2s 1ms/step - loss: 0.0034 - accuracy: 0.9989 - val_loss: 0.1760 - val_accuracy: 0.9793\n",
      "Epoch 41/100\n",
      "1688/1688 [==============================] - 2s 1ms/step - loss: 0.0035 - accuracy: 0.9987 - val_loss: 0.1543 - val_accuracy: 0.9817\n",
      "Epoch 42/100\n",
      "1688/1688 [==============================] - 2s 1ms/step - loss: 0.0024 - accuracy: 0.9994 - val_loss: 0.1467 - val_accuracy: 0.9817\n",
      "Epoch 43/100\n",
      "1688/1688 [==============================] - 3s 1ms/step - loss: 0.0020 - accuracy: 0.9993 - val_loss: 0.1700 - val_accuracy: 0.9810\n",
      "Epoch 44/100\n",
      "1688/1688 [==============================] - 2s 1ms/step - loss: 0.0036 - accuracy: 0.9990 - val_loss: 0.1588 - val_accuracy: 0.9810\n",
      "Epoch 45/100\n",
      "1688/1688 [==============================] - 3s 1ms/step - loss: 0.0023 - accuracy: 0.9992 - val_loss: 0.1503 - val_accuracy: 0.9827\n",
      "Epoch 46/100\n",
      "1688/1688 [==============================] - 3s 2ms/step - loss: 0.0041 - accuracy: 0.9988 - val_loss: 0.1512 - val_accuracy: 0.9817\n",
      "Epoch 47/100\n",
      "1688/1688 [==============================] - 2s 1ms/step - loss: 0.0010 - accuracy: 0.9997 - val_loss: 0.1397 - val_accuracy: 0.9843\n",
      "Epoch 48/100\n",
      "1688/1688 [==============================] - 2s 1ms/step - loss: 0.0042 - accuracy: 0.9990 - val_loss: 0.1471 - val_accuracy: 0.9835\n",
      "Epoch 49/100\n",
      "1688/1688 [==============================] - 2s 1ms/step - loss: 0.0022 - accuracy: 0.9993 - val_loss: 0.1792 - val_accuracy: 0.9807\n",
      "Epoch 50/100\n",
      "1688/1688 [==============================] - 2s 1ms/step - loss: 0.0043 - accuracy: 0.9988 - val_loss: 0.1716 - val_accuracy: 0.9808\n",
      "Epoch 51/100\n"
     ]
    },
    {
     "name": "stdout",
     "output_type": "stream",
     "text": [
      "1688/1688 [==============================] - 2s 1ms/step - loss: 0.0014 - accuracy: 0.9994 - val_loss: 0.1485 - val_accuracy: 0.9828\n",
      "Epoch 52/100\n",
      "1688/1688 [==============================] - 2s 1ms/step - loss: 0.0036 - accuracy: 0.9988 - val_loss: 0.1641 - val_accuracy: 0.9813\n",
      "Epoch 53/100\n",
      "1688/1688 [==============================] - 2s 1ms/step - loss: 0.0021 - accuracy: 0.9994 - val_loss: 0.1678 - val_accuracy: 0.9818\n",
      "Epoch 54/100\n",
      "1688/1688 [==============================] - 2s 1ms/step - loss: 0.0035 - accuracy: 0.9989 - val_loss: 0.1721 - val_accuracy: 0.9805\n",
      "Epoch 55/100\n",
      "1688/1688 [==============================] - 2s 1ms/step - loss: 0.0022 - accuracy: 0.9994 - val_loss: 0.1771 - val_accuracy: 0.9792\n",
      "Epoch 56/100\n",
      "1688/1688 [==============================] - 2s 1ms/step - loss: 0.0034 - accuracy: 0.9989 - val_loss: 0.1729 - val_accuracy: 0.9830\n",
      "Epoch 57/100\n",
      "1688/1688 [==============================] - 2s 1ms/step - loss: 0.0020 - accuracy: 0.9993 - val_loss: 0.1982 - val_accuracy: 0.9812\n",
      "Epoch 58/100\n",
      "1688/1688 [==============================] - 2s 1ms/step - loss: 0.0025 - accuracy: 0.9993 - val_loss: 0.1581 - val_accuracy: 0.9815\n",
      "Epoch 59/100\n",
      "1688/1688 [==============================] - 2s 1ms/step - loss: 0.0019 - accuracy: 0.9994 - val_loss: 0.1776 - val_accuracy: 0.9807\n",
      "Epoch 60/100\n",
      "1688/1688 [==============================] - 2s 1ms/step - loss: 0.0025 - accuracy: 0.9991 - val_loss: 0.1686 - val_accuracy: 0.9815\n",
      "Epoch 61/100\n",
      "1688/1688 [==============================] - 2s 1ms/step - loss: 0.0023 - accuracy: 0.9992 - val_loss: 0.1591 - val_accuracy: 0.9817\n",
      "Epoch 62/100\n",
      "1688/1688 [==============================] - 2s 1ms/step - loss: 1.0255e-04 - accuracy: 1.0000 - val_loss: 0.1454 - val_accuracy: 0.9840\n",
      "Epoch 63/100\n",
      "1688/1688 [==============================] - 2s 1ms/step - loss: 1.3181e-05 - accuracy: 1.0000 - val_loss: 0.1450 - val_accuracy: 0.9842\n",
      "Epoch 64/100\n",
      "1688/1688 [==============================] - 2s 1ms/step - loss: 7.0923e-06 - accuracy: 1.0000 - val_loss: 0.1454 - val_accuracy: 0.9838\n",
      "Epoch 65/100\n",
      "1688/1688 [==============================] - 2s 1ms/step - loss: 4.7156e-06 - accuracy: 1.0000 - val_loss: 0.1443 - val_accuracy: 0.9835\n",
      "Epoch 66/100\n",
      "1688/1688 [==============================] - 2s 1ms/step - loss: 3.3842e-06 - accuracy: 1.0000 - val_loss: 0.1462 - val_accuracy: 0.9843\n",
      "Epoch 67/100\n",
      "1688/1688 [==============================] - 2s 1ms/step - loss: 5.2792e-04 - accuracy: 0.9999 - val_loss: 0.2531 - val_accuracy: 0.9712\n",
      "Epoch 68/100\n",
      "1688/1688 [==============================] - 2s 1ms/step - loss: 0.0065 - accuracy: 0.9984 - val_loss: 0.1793 - val_accuracy: 0.9803\n",
      "Epoch 69/100\n",
      "1688/1688 [==============================] - 2s 1ms/step - loss: 0.0026 - accuracy: 0.9991 - val_loss: 0.2033 - val_accuracy: 0.9802\n",
      "Epoch 70/100\n",
      "1688/1688 [==============================] - 2s 1ms/step - loss: 0.0020 - accuracy: 0.9995 - val_loss: 0.1700 - val_accuracy: 0.9823\n",
      "Epoch 71/100\n",
      "1688/1688 [==============================] - 2s 1ms/step - loss: 1.2338e-04 - accuracy: 1.0000 - val_loss: 0.1670 - val_accuracy: 0.9823\n",
      "Epoch 72/100\n",
      "1688/1688 [==============================] - 2s 1ms/step - loss: 1.0992e-05 - accuracy: 1.0000 - val_loss: 0.1671 - val_accuracy: 0.9830\n",
      "Epoch 73/100\n",
      "1688/1688 [==============================] - 2s 1ms/step - loss: 5.5862e-06 - accuracy: 1.0000 - val_loss: 0.1677 - val_accuracy: 0.9832\n",
      "Epoch 74/100\n",
      "1688/1688 [==============================] - 2s 1ms/step - loss: 3.6738e-06 - accuracy: 1.0000 - val_loss: 0.1656 - val_accuracy: 0.9823\n",
      "Epoch 75/100\n",
      "1688/1688 [==============================] - 2s 1ms/step - loss: 2.3982e-06 - accuracy: 1.0000 - val_loss: 0.1660 - val_accuracy: 0.9830\n",
      "Epoch 76/100\n",
      "1688/1688 [==============================] - 2s 1ms/step - loss: 1.7590e-06 - accuracy: 1.0000 - val_loss: 0.1676 - val_accuracy: 0.9827\n",
      "Epoch 77/100\n",
      "1688/1688 [==============================] - 2s 1ms/step - loss: 1.0290e-06 - accuracy: 1.0000 - val_loss: 0.1719 - val_accuracy: 0.9820\n",
      "Epoch 78/100\n",
      "1688/1688 [==============================] - 2s 1ms/step - loss: 0.0093 - accuracy: 0.9979 - val_loss: 0.2031 - val_accuracy: 0.9812\n",
      "Epoch 79/100\n",
      "1688/1688 [==============================] - 2s 1ms/step - loss: 0.0015 - accuracy: 0.9996 - val_loss: 0.1930 - val_accuracy: 0.9813\n",
      "Epoch 80/100\n",
      "1688/1688 [==============================] - 2s 1ms/step - loss: 0.0012 - accuracy: 0.9996 - val_loss: 0.2215 - val_accuracy: 0.9763\n",
      "Epoch 81/100\n",
      "1688/1688 [==============================] - 2s 1ms/step - loss: 0.0053 - accuracy: 0.9985 - val_loss: 0.2075 - val_accuracy: 0.9817\n",
      "Epoch 82/100\n",
      "1688/1688 [==============================] - 2s 1ms/step - loss: 6.4748e-04 - accuracy: 0.9998 - val_loss: 0.1843 - val_accuracy: 0.9827\n",
      "Epoch 83/100\n",
      "1688/1688 [==============================] - 2s 1ms/step - loss: 2.6646e-05 - accuracy: 1.0000 - val_loss: 0.1791 - val_accuracy: 0.9832\n",
      "Epoch 84/100\n",
      "1688/1688 [==============================] - 2s 1ms/step - loss: 8.1488e-06 - accuracy: 1.0000 - val_loss: 0.1818 - val_accuracy: 0.9832\n",
      "Epoch 85/100\n",
      "1688/1688 [==============================] - 2s 1ms/step - loss: 2.7216e-06 - accuracy: 1.0000 - val_loss: 0.1806 - val_accuracy: 0.9833\n",
      "Epoch 86/100\n",
      "1688/1688 [==============================] - 2s 1ms/step - loss: 1.7824e-06 - accuracy: 1.0000 - val_loss: 0.1807 - val_accuracy: 0.9840\n",
      "Epoch 87/100\n",
      "1688/1688 [==============================] - 2s 1ms/step - loss: 0.0026 - accuracy: 0.9995 - val_loss: 0.2167 - val_accuracy: 0.9788\n",
      "Epoch 88/100\n",
      "1688/1688 [==============================] - 2s 1ms/step - loss: 0.0048 - accuracy: 0.9985 - val_loss: 0.2018 - val_accuracy: 0.9808\n",
      "Epoch 89/100\n",
      "1688/1688 [==============================] - 2s 1ms/step - loss: 0.0018 - accuracy: 0.9995 - val_loss: 0.1898 - val_accuracy: 0.9830\n",
      "Epoch 90/100\n",
      "1688/1688 [==============================] - 2s 1ms/step - loss: 0.0026 - accuracy: 0.9992 - val_loss: 0.2005 - val_accuracy: 0.9827\n",
      "Epoch 91/100\n",
      "1688/1688 [==============================] - 2s 1ms/step - loss: 0.0022 - accuracy: 0.9991 - val_loss: 0.2020 - val_accuracy: 0.9815\n",
      "Epoch 92/100\n",
      "1688/1688 [==============================] - 2s 1ms/step - loss: 0.0024 - accuracy: 0.9992 - val_loss: 0.2053 - val_accuracy: 0.9835\n",
      "Epoch 93/100\n",
      "1688/1688 [==============================] - 2s 1ms/step - loss: 0.0026 - accuracy: 0.9992 - val_loss: 0.2094 - val_accuracy: 0.9800\n",
      "Epoch 94/100\n",
      "1688/1688 [==============================] - 2s 1ms/step - loss: 0.0030 - accuracy: 0.9991 - val_loss: 0.2315 - val_accuracy: 0.9790\n",
      "Epoch 95/100\n",
      "1688/1688 [==============================] - 2s 1ms/step - loss: 0.0013 - accuracy: 0.9996 - val_loss: 0.2075 - val_accuracy: 0.9820\n",
      "Epoch 96/100\n",
      "1688/1688 [==============================] - 2s 1ms/step - loss: 0.0031 - accuracy: 0.9991 - val_loss: 0.2071 - val_accuracy: 0.9807\n",
      "Epoch 97/100\n",
      "1688/1688 [==============================] - 2s 1ms/step - loss: 0.0021 - accuracy: 0.9994 - val_loss: 0.2032 - val_accuracy: 0.9827\n",
      "Epoch 98/100\n",
      "1688/1688 [==============================] - 2s 1ms/step - loss: 0.0016 - accuracy: 0.9997 - val_loss: 0.2205 - val_accuracy: 0.9795\n",
      "Epoch 99/100\n",
      "1688/1688 [==============================] - 2s 1ms/step - loss: 0.0042 - accuracy: 0.9988 - val_loss: 0.2111 - val_accuracy: 0.9822\n",
      "Epoch 100/100\n",
      "1688/1688 [==============================] - 2s 1ms/step - loss: 0.0017 - accuracy: 0.9995 - val_loss: 0.1983 - val_accuracy: 0.9837\n"
     ]
    }
   ],
   "source": [
    "model_wo_do = tf.keras.models.Sequential([\n",
    "    tf.keras.layers.Flatten(input_shape=(28, 28)),\n",
    "    tf.keras.layers.Dense(128, activation='relu'),\n",
    "    tf.keras.layers.Dense(10, activation='softmax')\n",
    "])\n",
    "\n",
    "model_wo_do.compile(loss=\"categorical_crossentropy\", optimizer=\"adam\", metrics = ['accuracy'])\n",
    "model_wo_do.summary()\n",
    "\n",
    "history_wo_do = model_wo_do.fit(x_train, y_train, epochs=100, validation_split=0.1, verbose=1)"
   ]
  },
  {
   "cell_type": "markdown",
   "id": "b552fecd",
   "metadata": {},
   "source": [
    "Veamos cómo ha evolucionado el entrenamiento"
   ]
  },
  {
   "cell_type": "code",
   "execution_count": null,
   "id": "6c8315fb",
   "metadata": {},
   "outputs": [],
   "source": [
    "plt.plot(history_wo_do.history['loss'], label='Train loss')\n",
    "plt.plot(history_wo_do.history['val_loss'], label='Val. loss')\n",
    "plt.legend();"
   ]
  },
  {
   "cell_type": "markdown",
   "id": "c4a449a7",
   "metadata": {},
   "source": [
    "Y ahora uno con _dropout_:"
   ]
  },
  {
   "cell_type": "code",
   "execution_count": null,
   "id": "2e3f8131",
   "metadata": {},
   "outputs": [],
   "source": [
    "model_wi_do = tf.keras.models.Sequential([\n",
    "    tf.keras.layers.Flatten(input_shape=(28, 28)),\n",
    "    tf.keras.layers.Dense(128, activation='relu'),\n",
    "    tf.keras.layers.Dropout(0.5),\n",
    "    tf.keras.layers.Dense(10, activation='softmax')\n",
    "])\n",
    "\n",
    "model_wi_do.compile(loss=\"categorical_crossentropy\", optimizer=\"adam\", metrics = ['accuracy'])\n",
    "model_wi_do.summary()\n",
    "\n",
    "history_wi_do = model_wi_do.fit(x_train, y_train, epochs=100, validation_split=0.1, verbose=0)"
   ]
  },
  {
   "cell_type": "markdown",
   "id": "75ba6af6",
   "metadata": {},
   "source": [
    "Y veamos también su evolución:"
   ]
  },
  {
   "cell_type": "code",
   "execution_count": null,
   "id": "29ca0d0d",
   "metadata": {},
   "outputs": [],
   "source": [
    "plt.plot(history_wi_do.history['loss'], label='Train loss')\n",
    "plt.plot(history_wi_do.history['val_loss'], label='Val. loss')\n",
    "plt.legend();"
   ]
  },
  {
   "cell_type": "markdown",
   "id": "760629b9",
   "metadata": {},
   "source": [
    "Vamos a comparar los valores que arrojan los conjuntos de ambos modelos:"
   ]
  },
  {
   "cell_type": "code",
   "execution_count": null,
   "id": "11176cb6",
   "metadata": {},
   "outputs": [],
   "source": [
    "print('Without dropout:')\n",
    "train_loss_1, train_accuracy_1 = model_wo_do.evaluate(x_train, y_train, verbose=0)\n",
    "test_loss_1, test_accuracy_1 = model_wo_do.evaluate(x_test, y_test, verbose=0)\n",
    "print(f'\\tLoss     -> Train: {train_loss_1}, Test: {test_loss_1}')\n",
    "print(f'\\tAccuracy -> Train: {train_accuracy_1}, Test: {test_accuracy_1}')\n",
    "print('With dropout:')\n",
    "train_loss_2, train_accuracy_2 = model_wi_do.evaluate(x_train, y_train, verbose=0)\n",
    "test_loss_2, test_accuracy_2 = model_wi_do.evaluate(x_test, y_test, verbose=0)\n",
    "print(f'\\tLoss     -> Train: {train_loss_2}, Test: {test_loss_2}')\n",
    "print(f'\\tAccuracy -> Train: {train_accuracy_2}, Test: {test_accuracy_2}')"
   ]
  },
  {
   "cell_type": "markdown",
   "id": "4a5a7d2f",
   "metadata": {},
   "source": [
    "Generalmente los valores de error que arrojan los modelos que han sido entrenados con dropout suelen ser más altos. Esto es debido a que en estos modelos no hemos entrenado todas las conexiones a la vez, sino que hay conexiones que no se entrenan y eso implica que hay que entrenarlos durante más epochs.\n",
    "\n",
    "Sin embargo, la tendencia general que se obserba es que en modelos muy potentes el conocimiento tiende a repartirse por todas las conexiones del modelo, haciendo que la sobrespecialización se mitigue y la generalización aumente."
   ]
  },
  {
   "cell_type": "markdown",
   "id": "b05096b5",
   "metadata": {},
   "source": [
    "## Conclusiones"
   ]
  },
  {
   "cell_type": "markdown",
   "id": "bd65fcd4",
   "metadata": {},
   "source": [
    "Hemos realizado una comparativa entre dos modelos, uno sin dropout y otro con él, y hemos demostrado que el uso de dropout puede mejorar significativamente la capacidad predictiva de los modelos. Además, hemos explicado cómo funciona el dropout y cómo se puede ajustar su hiperparámetro para optimizar su rendimiento.\n",
    "\n",
    "En resumen, el uso de _dropout_ puede mejorar enormemente la capacidad predictiva de nuestro modelos y mantener su capacidad de generalización gracias a que favorece que los modelos muy potentes no se estanquen en la sobrespecialización."
   ]
  },
  {
   "cell_type": "markdown",
   "id": "582efec2",
   "metadata": {},
   "source": [
    "***\n",
    "\n",
    "<div><img style=\"float: right; width: 120px; vertical-align:top\" src=\"https://mirrors.creativecommons.org/presskit/buttons/88x31/png/by-nc-sa.png\" alt=\"Creative Commons by-nc-sa logo\" />\n",
    "\n",
    "[Volver al inicio](#top)\n",
    "\n",
    "</div>"
   ]
  }
 ],
 "metadata": {
  "kernelspec": {
   "display_name": "Python 3 (ipykernel)",
   "language": "python",
   "name": "python3"
  },
  "language_info": {
   "codemirror_mode": {
    "name": "ipython",
    "version": 3
   },
   "file_extension": ".py",
   "mimetype": "text/x-python",
   "name": "python",
   "nbconvert_exporter": "python",
   "pygments_lexer": "ipython3",
   "version": "3.9.5"
  }
 },
 "nbformat": 4,
 "nbformat_minor": 5
}
