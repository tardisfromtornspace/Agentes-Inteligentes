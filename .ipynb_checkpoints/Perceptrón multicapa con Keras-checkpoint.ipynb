{
 "cells": [
  {
   "cell_type": "markdown",
   "id": "010176d1",
   "metadata": {},
   "source": [
    "<div><img style=\"float: right; width: 120px; vertical-align:middle\" src=\"https://www.upm.es/sfs/Rectorado/Gabinete%20del%20Rector/Logos/EU_Informatica/ETSI%20SIST_INFORM_COLOR.png\" alt=\"ETSISI logo\" />\n",
    "\n",
    "\n",
    "# Perceptrón multicapa con Keras<a id=\"top\"></a>\n",
    "\n",
    "<i><small>Autor: Alberto Díaz Álvarez<br>Última actualización: 2023-02-23</small></i></div>\n",
    "                                                  \n",
    "\n",
    "***"
   ]
  },
  {
   "cell_type": "markdown",
   "id": "554fb61b",
   "metadata": {},
   "source": [
    "## Introducción\n",
    "\n",
    "Ya hemos visto una implementación casi desde cero de un perceptrón multicapa. Existen bibliotecas que abstraen muchos detalles de implementación y que nos ayudan a creear modelos útiles y complejos en apenas tiempo.\n",
    "\n",
    "Nosotros vamos a ver una de estas bibliotecas, `keras`, a partir de ejemplos, y comenzaremos con el del perceptrón multicapa que implementamos en el anterior Notebook."
   ]
  },
  {
   "cell_type": "markdown",
   "id": "8f243ba3",
   "metadata": {},
   "source": [
    "## Objetivos\n",
    "\n",
    "Vamos a implementar un perceptrón multicapa similar al implementado anteriormente pero con las primitivas que nos ofrece la biblioteca `keras`. Esta implementación la realizaremos de dos formas diferentes para entender un poco mejor su funcionamiento. También veremos cómo se entrenan estos modelos, cómo se trabaja con optimizadores y con _callbacks_ y cómo salvar y cargar modelos para usarlos más adelante."
   ]
  },
  {
   "cell_type": "markdown",
   "id": "67582fcc",
   "metadata": {},
   "source": [
    "## Bibliotecas y configuración\n",
    "\n",
    "A continuación importaremos las bibliotecas que se utilizarán a lo largo del _notebook_."
   ]
  },
  {
   "cell_type": "code",
   "execution_count": 17,
   "id": "58374f16",
   "metadata": {},
   "outputs": [],
   "source": [
    "import matplotlib.pyplot as plt\n",
    "import tensorflow as tf\n",
    "import numpy as np\n",
    "import pandas as pd"
   ]
  },
  {
   "cell_type": "markdown",
   "id": "174e97df",
   "metadata": {},
   "source": [
    "Si salen algunos _warning_ es porque `tensorflow` es así. Seguramente sea una compilación genérica y requiera de una compilación específica para que desaparezcan. Afortunadamente, no suele pasar nada porque salgan estos warning, sobreviviremos.\n",
    "\n",
    "Configuraremos también algunos parámetros para adecuar la presentación gráfica."
   ]
  },
  {
   "cell_type": "code",
   "execution_count": 9,
   "id": "aca72f44",
   "metadata": {},
   "outputs": [],
   "source": [
    "%matplotlib inline\n",
    "plt.style.use('ggplot')\n",
    "plt.rcParams.update({'figure.figsize': (16, 9),'figure.dpi': 64})"
   ]
  },
  {
   "cell_type": "markdown",
   "id": "06541e93",
   "metadata": {},
   "source": [
    "***"
   ]
  },
  {
   "cell_type": "markdown",
   "id": "a9aec0b7",
   "metadata": {},
   "source": [
    "## Conjunto de datos sobre el que trabajar\n",
    "\n",
    "Ahora estamos trabajando con modelos que aprenden bajo un esquema de aprendizaje supervisado por lo que necesitamos un conjunto de datos con entradas y sus salidas esperadas de los que aprender.\n",
    "\n",
    "Keras nos proporciona varios conjuntos de datos bajo el módulo `datasets`. De ellos vamos a usar el de `mnist`, que es un conjunto de imágenes pequeñas ($28 \\times 28$ píxeles) con dígitos del 0 al 9 manuscritos.\n",
    "\n",
    "![](https://upload.wikimedia.org/wikipedia/commons/2/27/MnistExamples.png)\n",
    "\n",
    "Los _datasets_ del módulo ofrecen una función `load_data` para cargar los datos, descargándolos si es necesario. En el caso del `mnist`, los datos vienen separados en dos conjuntos, entrenamiento y test, en dos partes cada uno, entradas y salidas."
   ]
  },
  {
   "cell_type": "code",
   "execution_count": 10,
   "id": "88d8acf8",
   "metadata": {},
   "outputs": [
    {
     "name": "stdout",
     "output_type": "stream",
     "text": [
      "Training shape: (60000, 28, 28) input, (60000,) output\n",
      "Test shape:     (10000, 28, 28) input, (10000,) output\n"
     ]
    }
   ],
   "source": [
    "(x_train, y_train), (x_test, y_test) = tf.keras.datasets.mnist.load_data()\n",
    "\n",
    "print(f'Training shape: {x_train.shape} input, {y_train.shape} output')\n",
    "print(f'Test shape:     {x_test.shape} input, {y_test.shape} output')"
   ]
  },
  {
   "cell_type": "markdown",
   "id": "7a7362f3",
   "metadata": {},
   "source": [
    "Con los conjuntos de datos cargados y preparados, ya tenemos suficiente para trabajar. ¡Vamos allá!"
   ]
  },
  {
   "cell_type": "markdown",
   "id": "e5a36bf0",
   "metadata": {},
   "source": [
    "## El API secuencial\n",
    "\n",
    "La primera forma que vamos a ver para crear modelos en `keras` es su API secuencial. Es la más sencilla, ya que el modelo se crea como una lista de capas sucesivas y por debajo este las conecta (esto es, las salidas de una capa con las entradas de la siguiente). Por ejemplo, el perceptrón que implementamos anteriormente (bueno, lo más parecido a lo que podemos llegar) se implementaría como sigue:"
   ]
  },
  {
   "cell_type": "code",
   "execution_count": 11,
   "id": "546fee99",
   "metadata": {},
   "outputs": [
    {
     "name": "stdout",
     "output_type": "stream",
     "text": [
      "Model: \"sequential_1\"\n",
      "_________________________________________________________________\n",
      " Layer (type)                Output Shape              Param #   \n",
      "=================================================================\n",
      " dense_3 (Dense)             (None, 3)                 9         \n",
      "                                                                 \n",
      " dense_4 (Dense)             (None, 2)                 8         \n",
      "                                                                 \n",
      " dense_5 (Dense)             (None, 1)                 3         \n",
      "                                                                 \n",
      "=================================================================\n",
      "Total params: 20\n",
      "Trainable params: 20\n",
      "Non-trainable params: 0\n",
      "_________________________________________________________________\n"
     ]
    }
   ],
   "source": [
    "model = tf.keras.models.Sequential([\n",
    "    tf.keras.layers.Dense(3, activation='sigmoid', input_shape = [2,]),\n",
    "    tf.keras.layers.Dense(2, activation='sigmoid'),\n",
    "    tf.keras.layers.Dense(1, activation='sigmoid'),\n",
    "])\n",
    "model.summary()"
   ]
  },
  {
   "cell_type": "markdown",
   "id": "151168d0",
   "metadata": {},
   "source": [
    "Esto sería únicamente la arquitectura. Para poder entrenarlo tendríamos que especificar de qué manera calculamos el error (en nuestro caso antes usábamos la diferencia entre valor esperado y valor inferido), qué optimizador (en nuestro caso usábamos _backpropagation_) y si queremos o no alguna métrica más (antes sacábamos exactitud y rmse)."
   ]
  },
  {
   "cell_type": "code",
   "execution_count": 12,
   "id": "c20342f5",
   "metadata": {},
   "outputs": [],
   "source": [
    "model.compile(\n",
    "    loss = tf.keras.losses.MeanSquaredError(),\n",
    "    optimizer = tf.keras.optimizers.SGD(learning_rate=0.5),\n",
    "    metrics = [tf.keras.metrics.Accuracy()]\n",
    ")"
   ]
  },
  {
   "cell_type": "markdown",
   "id": "6b3c6691",
   "metadata": {},
   "source": [
    "Con esto podemos entrenar el modelo. Por ejemplo, en el problema de la puerta XOR de antes:"
   ]
  },
  {
   "cell_type": "code",
   "execution_count": 13,
   "id": "9d2d2b10",
   "metadata": {},
   "outputs": [
    {
     "name": "stdout",
     "output_type": "stream",
     "text": [
      "1/1 [==============================] - 0s 84ms/step\n"
     ]
    },
    {
     "data": {
      "text/plain": [
       "array([[0.],\n",
       "       [1.],\n",
       "       [0.],\n",
       "       [1.]], dtype=float32)"
      ]
     },
     "execution_count": 13,
     "metadata": {},
     "output_type": "execute_result"
    }
   ],
   "source": [
    "DATASET_XOR = np.array([\n",
    "    [0, 0, 0],\n",
    "    [0, 1, 1],\n",
    "    [1, 0, 1],\n",
    "    [1, 1, 0],\n",
    "])\n",
    "X = DATASET_XOR[:, :-1]  # Entradas: Todas las columnas hasta la última\n",
    "y = DATASET_XOR[:, -1:]  # Salidas: Todas las columnas desde la última\n",
    "\n",
    "model.fit(X, y, epochs=1000, verbose=0)\n",
    "ŷ = model.predict(X)\n",
    "np.piecewise(ŷ, [ŷ < 0.5, 0.5 <= ŷ], [0, 1])"
   ]
  },
  {
   "cell_type": "markdown",
   "id": "1d5a4def",
   "metadata": {},
   "source": [
    "Ahora bien, con el conjunto de datos de `mnist` tenemos que hacer algunos cambios porque este modelo no nos vale:\n",
    "\n",
    "1. La entrada es una matriz de $28 \\times 28$, y hasta ahora hemos visto modelos que esperan un vector de entrada. Afortunadamente para esto último `keras` proporciona una capa denominada `Flatten` que aplana la entrada suministrada.\n",
    "2. La salida de nuestro modelo no es 0 o 1. Es un valor del 0 al 10. Si fuese una clasificación binaria valdría, pero es una clasificación denominada \"multiclase\". Para estos casos, se suele trabajar con varias clasificaciones binarias, una para cada clase. Como tenemos 10 posibles valores de salida, usaremos 10 neuronas, una para cada clase, y como función de activación y loss usaremos dos funciones que trabajan juntas para hacer las labores de clasificación. Esto lo veremos más adelante; por ahora basta pensar que funcionan juntas en este tipo de problemas multiclase.\n",
    "3. El learning_rate que se suele usar para empezar a entrenar modelos suele ser bajo, del orden de 0.1 o inferior. Usaremos los valroes por defecto de nuestro optimizador.\n",
    "4. Existe una métrica más adecuada para nuestro cálculo del error que la simple exactitud.\n",
    "\n",
    "Con estos cambios nuestro modelo quedaría como sigue:"
   ]
  },
  {
   "cell_type": "code",
   "execution_count": 14,
   "id": "99aa2d46",
   "metadata": {},
   "outputs": [
    {
     "name": "stdout",
     "output_type": "stream",
     "text": [
      "Model: \"sequential_2\"\n",
      "_________________________________________________________________\n",
      " Layer (type)                Output Shape              Param #   \n",
      "=================================================================\n",
      " flatten (Flatten)           (None, 784)               0         \n",
      "                                                                 \n",
      " dense_6 (Dense)             (None, 3)                 2355      \n",
      "                                                                 \n",
      " dense_7 (Dense)             (None, 2)                 8         \n",
      "                                                                 \n",
      " dense_8 (Dense)             (None, 10)                30        \n",
      "                                                                 \n",
      "=================================================================\n",
      "Total params: 2,393\n",
      "Trainable params: 2,393\n",
      "Non-trainable params: 0\n",
      "_________________________________________________________________\n"
     ]
    }
   ],
   "source": [
    "model = tf.keras.models.Sequential([\n",
    "    # La primera capa del modelo toma entradas de 28x28 y las \"aplana\"\n",
    "    tf.keras.layers.Flatten(input_shape=(28, 28)),\n",
    "    tf.keras.layers.Dense(3, activation='sigmoid'),\n",
    "    tf.keras.layers.Dense(2, activation='sigmoid'),\n",
    "    # La salida la cambiamos a 10 neuronas y una función de activación softmax\n",
    "    tf.keras.layers.Dense(10, activation='softmax'),\n",
    "])\n",
    "model.compile(\n",
    "    loss = tf.keras.losses.SparseCategoricalCrossentropy(),\n",
    "    optimizer = tf.keras.optimizers.SGD(),\n",
    "    metrics = [tf.keras.metrics.SparseCategoricalAccuracy()]\n",
    ")\n",
    "model.summary()"
   ]
  },
  {
   "cell_type": "markdown",
   "id": "228b2ec6",
   "metadata": {},
   "source": [
    "Es curioso ver cómo han cambiado los parámetros. De 2 entradas que teníamos antes a 768, con lo que ahora tenemos que ajustar 2393 parámetros en lugar de sólo 20. Bueno, veamos qué tal se comporta con el conjunto de entrenamiento de `mnist`"
   ]
  },
  {
   "cell_type": "code",
   "execution_count": 15,
   "id": "f4a4e909",
   "metadata": {},
   "outputs": [
    {
     "name": "stdout",
     "output_type": "stream",
     "text": [
      "Epoch 1/10\n",
      "1875/1875 [==============================] - 3s 1ms/step - loss: 2.2687 - sparse_categorical_accuracy: 0.1692\n",
      "Epoch 2/10\n",
      "1875/1875 [==============================] - 2s 1ms/step - loss: 2.1930 - sparse_categorical_accuracy: 0.1965\n",
      "Epoch 3/10\n",
      "1875/1875 [==============================] - 2s 1ms/step - loss: 2.1042 - sparse_categorical_accuracy: 0.2063\n",
      "Epoch 4/10\n",
      "1875/1875 [==============================] - 2s 1ms/step - loss: 2.0260 - sparse_categorical_accuracy: 0.2549\n",
      "Epoch 5/10\n",
      "1875/1875 [==============================] - 2s 1ms/step - loss: 1.9585 - sparse_categorical_accuracy: 0.2676\n",
      "Epoch 6/10\n",
      "1875/1875 [==============================] - 2s 1ms/step - loss: 1.9112 - sparse_categorical_accuracy: 0.3267\n",
      "Epoch 7/10\n",
      "1875/1875 [==============================] - 2s 1ms/step - loss: 1.8650 - sparse_categorical_accuracy: 0.3438\n",
      "Epoch 8/10\n",
      "1875/1875 [==============================] - 2s 1ms/step - loss: 1.8260 - sparse_categorical_accuracy: 0.3465\n",
      "Epoch 9/10\n",
      "1875/1875 [==============================] - 2s 1ms/step - loss: 1.7892 - sparse_categorical_accuracy: 0.3556\n",
      "Epoch 10/10\n",
      "1875/1875 [==============================] - 2s 1ms/step - loss: 1.7483 - sparse_categorical_accuracy: 0.3712\n"
     ]
    }
   ],
   "source": [
    "history = model.fit(x_train, y_train, epochs=10)"
   ]
  },
  {
   "cell_type": "markdown",
   "id": "cd5c873a",
   "metadata": {},
   "source": [
    "Como vemos, el método `fit` devuelve un objeto al que apuntará la variable `history`. Este objeto guarda un histórico de todos los indicadores de nuestro proceso de entrenamiento (incluidas las métricas especificadas en el método `compile`) _epoch_ por _epoch_. Podemos aprovechar este objeto para imprimir por pantalla la evolución del entrenamiento, lo que nos daría información acerca de cómo ha ido:"
   ]
  },
  {
   "cell_type": "code",
   "execution_count": 18,
   "id": "90813e7f",
   "metadata": {},
   "outputs": [
    {
     "data": {
      "image/png": "[encoded data removed]",
      "text/plain": [
       "<Figure size 1024x576 with 1 Axes>"
      ]
     },
     "metadata": {},
     "output_type": "display_data"
    }
   ],
   "source": [
    "pd.DataFrame(history.history).plot()\n",
    "plt.xlabel('Epoch num.')\n",
    "plt.show()"
   ]
  },
  {
   "cell_type": "markdown",
   "id": "69b5baea",
   "metadata": {},
   "source": [
    "Esta gráfica nos dice más o menos tres cosas:\n",
    "\n",
    "1. El error (_loss_) va bajando durante el entrenamiento, cosa que está muy bien.\n",
    "2. La exactitud (_accuracy_) va subiendo, cosa que también está muy bien.\n",
    "3. La exactitud sigue siendo baja, por lo que queda mucho que entrenar.\n",
    "\n",
    "Vamos a ver la evolución de los indicadores con unos cuantos _epochs_ más de entrenamiento."
   ]
  },
  {
   "cell_type": "code",
   "execution_count": null,
   "id": "4c6fee2c",
   "metadata": {},
   "outputs": [],
   "source": [
    "history = model.fit(x_train, y_train, epochs=100, verbose=0)\n",
    "pd.DataFrame(history.history).plot()\n",
    "plt.xlabel('Epoch num.')\n",
    "plt.show()"
   ]
  },
  {
   "cell_type": "markdown",
   "id": "f3c2a3d7",
   "metadata": {},
   "source": [
    "Hemos realizado 100 epochs a partir del modelo ya entrenado y parece que, aunque sigue evolucionando, su capacidad predictiva deja un poco que desear. Vamos a entrenar un modelo un poco más complejo a ver si somos capaces de que la precisión aumente."
   ]
  },
  {
   "cell_type": "code",
   "execution_count": null,
   "id": "d8f3cc47",
   "metadata": {},
   "outputs": [],
   "source": [
    "model = tf.keras.models.Sequential([\n",
    "    tf.keras.layers.Flatten(input_shape=(28, 28)),\n",
    "    tf.keras.layers.Dense(5, activation='sigmoid'),\n",
    "    tf.keras.layers.Dense(5, activation='sigmoid'),\n",
    "    tf.keras.layers.Dense(10, activation='softmax'),\n",
    "])\n",
    "model.compile(\n",
    "    loss = tf.keras.losses.SparseCategoricalCrossentropy(),\n",
    "    optimizer = tf.keras.optimizers.SGD(),\n",
    "    metrics = [tf.keras.metrics.SparseCategoricalAccuracy()]\n",
    ")\n",
    "model.summary()"
   ]
  },
  {
   "cell_type": "markdown",
   "id": "9eb3d79b",
   "metadata": {},
   "source": [
    "Para el entrenamiento vamos a hacer uso de un argumento más, `validation_split=0.1`. Con este argumento el conjunto de entrenamiento se separará en 2 conjuntos diferentes durante cada _epoch_: uno con el 90% de los datos, con el que se realizará el entrenamiento y otro con el 10% de datos restante para evaluar la red tras el entrenamiento de ese epoch. Vamos allá:"
   ]
  },
  {
   "cell_type": "code",
   "execution_count": null,
   "id": "f803a03b",
   "metadata": {},
   "outputs": [],
   "source": [
    "history = model.fit(x_train, y_train, epochs=100, validation_split=0.1)"
   ]
  },
  {
   "cell_type": "markdown",
   "id": "1e897570",
   "metadata": {},
   "source": [
    "Con este argumento podemos ser capaces de tener una intuición no solo de cómo va aprendiendo la red, sino de su evolución en la capacidad de predicción."
   ]
  },
  {
   "cell_type": "code",
   "execution_count": null,
   "id": "5f6be095",
   "metadata": {},
   "outputs": [],
   "source": [
    "pd.DataFrame(history.history).plot()\n",
    "plt.xlabel('Epoch num.')\n",
    "plt.show()"
   ]
  },
  {
   "cell_type": "markdown",
   "id": "3b18a03f",
   "metadata": {},
   "source": [
    "Un entrenamiento que tiene mejor pinta. parece que más o menos el modelo acierta un 77% de los casos en entrenamiento y un 74% de los casos en validación. No es una diferencia muy grande, así que podemos decir que no está sobreespecializado (sufriendo _overfitting_).\n",
    "\n",
    "Si damos como bueno este modelo, el siguiente (y último paso) para determinar si es apto para usarse en el mundo real sería comprobar con el conjunto de test. Veamos como se comporta con este:"
   ]
  },
  {
   "cell_type": "code",
   "execution_count": null,
   "id": "6d920bb6",
   "metadata": {},
   "outputs": [],
   "source": [
    "model.evaluate(x_test, y_test)"
   ]
  },
  {
   "cell_type": "markdown",
   "id": "4379fe8a",
   "metadata": {},
   "source": [
    "Aproximadamente un 75% de exactitud, no está mal. O no. Todo depende del problema, ya que un 75% de aciertos en reconocer un cáncer de mama no es una estadística muy halagüeña. Pero no nos preocupemos, hay más modelos que aprenderemos para abordar diferentes casos. Por ahora, estamos aprendiendo las diferentes formas de aprender modelos con Keras. Vamos a por la segunda forma."
   ]
  },
  {
   "cell_type": "markdown",
   "id": "7380fe34",
   "metadata": {},
   "source": [
    "## El API funcional\n",
    "\n",
    "Muchos modelos de aprendizaje profundo son grafos acíclicos dirigidos (DAG, del inglés _directed acyclic graph_) donde cada nodo se corresponde con una capa. El API funcional nos permite construirlos en términos de entradas y salidas de capas.\n",
    "\n",
    "Esto es debido a que, en el momento que queremos interconectar las capas de una manera diferente (por ejemplo una entrada común que va a dos subredes independientes que luego convergen en una capa común), el API secuencial no nos sirve.\n",
    "\n",
    "Nos encontraremos con redes complicadas de este tipo más adelante. Por ahora nos ceñiremos a nuestro perceptrón multicapa y su definición con este API. Veamos cómo sería:"
   ]
  },
  {
   "cell_type": "code",
   "execution_count": null,
   "id": "e307c011",
   "metadata": {},
   "outputs": [],
   "source": [
    "# Definimos las capas con sus conexiones explícitamente\n",
    "input_layer = tf.keras.layers.Input(shape=(28, 28))\n",
    "flatten = tf.keras.layers.Flatten()(input_layer)\n",
    "hidden_1 = tf.keras.layers.Dense(5, activation='sigmoid')(flatten)\n",
    "hidden_2 = tf.keras.layers.Dense(5, activation='sigmoid')(hidden_1)\n",
    "output_layer = tf.keras.layers.Dense(10, activation='softmax')(hidden_2)\n",
    "# Creamos el modelo especificando cuáles son las entradas y cuáles las salidas\n",
    "model = tf.keras.models.Model(inputs=input_layer, outputs=output_layer)\n",
    "# La arquitectura ya está definida, así que ya podemos compilarlo\n",
    "model.compile(\n",
    "    loss = tf.keras.losses.SparseCategoricalCrossentropy(),\n",
    "    optimizer = tf.keras.optimizers.SGD(),\n",
    "    metrics = [tf.keras.metrics.SparseCategoricalAccuracy()]\n",
    ")\n",
    "model.summary()"
   ]
  },
  {
   "cell_type": "markdown",
   "id": "2aa49ba6",
   "metadata": {},
   "source": [
    "Exactamente los mismos parámetros y la misma arquitectura, sólo que definido de manera diferente. Ahora vamos a realizar un nuevo entrenamiento para ver si la tendencia es similar a la anterior (que esperemos que lo sea):"
   ]
  },
  {
   "cell_type": "code",
   "execution_count": null,
   "id": "e8aae695",
   "metadata": {},
   "outputs": [],
   "source": [
    "history = model.fit(x_train, y_train, epochs=100, validation_split=0.1)"
   ]
  },
  {
   "cell_type": "markdown",
   "id": "11e13975",
   "metadata": {},
   "source": [
    "Desde luego por los valores de los indicadores en entrenamiento y en validación, parece que se está comportando de la misma manera. Veamos la tendencia en una gráfica, que siempre es más agradecida."
   ]
  },
  {
   "cell_type": "code",
   "execution_count": null,
   "id": "2f0ed979",
   "metadata": {},
   "outputs": [],
   "source": [
    "pd.DataFrame(history.history).plot()\n",
    "plt.xlabel('Epoch num.')\n",
    "plt.show()"
   ]
  },
  {
   "cell_type": "markdown",
   "id": "fe7cb3d9",
   "metadata": {},
   "source": [
    "En efecto, se parecen bastante. Y menos mal, porque si no todo esto no valdría para nada. Ya conocemos las dos formas que tiene Keras para definir modelos de redes neuronales."
   ]
  },
  {
   "cell_type": "markdown",
   "id": "b05096b5",
   "metadata": {},
   "source": [
    "## Conclusiones"
   ]
  },
  {
   "cell_type": "markdown",
   "id": "bd65fcd4",
   "metadata": {},
   "source": [
    "Con esto concluimos la implementación mediante dos API diferentes, la API secuencial y la API funcional. Ambas dos son **declarativas**, es decir:\n",
    "\n",
    "1. Se declara primero qué capas se van a usar y cómo se conectan (esto último implícito en el caso de la API secuencial)\n",
    "2. Posteriormente se alimenta al modelo con algunos datos para su entrenamiento.\n",
    "\n",
    "Esto tiene una gran desventaja para un caso concreto: ¿qué ocurre si queremos un modelo dinámico? ¿Modelos que requieran bucles a lo largo de sus datos, bifuraciones que sólo se activan bajo determinadas condiciones? Una vez el modelo se crea, con las API explicadas este permanece estático.\n",
    "\n",
    "Estos casos son los que se intentan cubrir en el modo de creación mediante herencia directa de la clase `Model`, también conocido como _Subclassing API_ [1]. Con él pasamos de un paradigma declarativo a uno **imperativo** de creación de modelos.\n",
    "\n",
    "Este modo es más complejo, pero os animamos a que experimentéis si os gusta. Y si queréis colaborar con el contenido de la asignatura, ¡estáis a un _pull request_ de hacerlo!"
   ]
  },
  {
   "cell_type": "markdown",
   "id": "23734ea4",
   "metadata": {},
   "source": [
    "---\n",
    "\n",
    "## Referencias"
   ]
  },
  {
   "cell_type": "markdown",
   "id": "bf9fcfec",
   "metadata": {},
   "source": [
    "\n",
    "[1] Guía para la creación de capas y modelos personalizados (<https://www.tensorflow.org/guide/keras/custom_layers_and_models>)"
   ]
  },
  {
   "cell_type": "markdown",
   "id": "582efec2",
   "metadata": {},
   "source": [
    "***\n",
    "\n",
    "<div><img style=\"float: right; width: 120px; vertical-align:top\" src=\"https://mirrors.creativecommons.org/presskit/buttons/88x31/png/by-nc-sa.png\" alt=\"Creative Commons by-nc-sa logo\" />\n",
    "\n",
    "[Volver al inicio](#top)\n",
    "\n",
    "</div>"
   ]
  }
 ],
 "metadata": {
  "kernelspec": {
   "display_name": "Python 3 (ipykernel)",
   "language": "python",
   "name": "python3"
  },
  "language_info": {
   "codemirror_mode": {
    "name": "ipython",
    "version": 3
   },
   "file_extension": ".py",
   "mimetype": "text/x-python",
   "name": "python",
   "nbconvert_exporter": "python",
   "pygments_lexer": "ipython3",
   "version": "3.9.5"
  }
 },
 "nbformat": 4,
 "nbformat_minor": 5
}
