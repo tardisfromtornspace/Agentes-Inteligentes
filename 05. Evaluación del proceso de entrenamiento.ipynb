{
 "cells": [
  {
   "cell_type": "markdown",
   "id": "010176d1",
   "metadata": {},
   "source": [
    "<div><img style=\"float: right; width: 120px; vertical-align:middle\" src=\"https://www.upm.es/sfs/Rectorado/Gabinete%20del%20Rector/Logos/EU_Informatica/ETSI%20SIST_INFORM_COLOR.png\" alt=\"ETSISI logo\" />\n",
    "\n",
    "# Evaluación del proceso de entrenamiento<a id=\"top\"></a>\n",
    "\n",
    "<i><small>Autor: Alberto Díaz Álvarez<br>Última actualización: 2023-03-14</small></i></div>\n",
    "                                                  \n",
    "\n",
    "***"
   ]
  },
  {
   "cell_type": "markdown",
   "id": "554fb61b",
   "metadata": {},
   "source": [
    "## Introducción"
   ]
  },
  {
   "cell_type": "markdown",
   "id": "31ba017a",
   "metadata": {},
   "source": [
    "Es importante monitorizar el proceso de entrenamiento de un modelo para poder evaluar y mejorar su rendimiento. Durante el entrenamiento de una red neuronal es necesario ajustar numerosos hiperparámetros, como la tasa de aprendizaje, el tamaño del _batch_, el número de _epochs_, la topología de la red, etc.\n",
    "\n",
    "Tensorboard es una herramienta útil para monitorizar el proceso de entrenamiento, ya que permite visualizar gráficamente diversas métricas que se recopilan durante el proceso de entrenamiento, como la evolución de la función de pérdida (esto es, el _loss_), la precisión de la red en los datos de entrenamiento y validación, el aprendizaje de las características de la red, entre otros. Además, Tensorboard también permite visualizar la estructura de la red neuronal y las distribuciones de los pesos y las activaciones de las capas, lo que puede ayudar a identificar posibles problemas en la arquitectura de la red."
   ]
  },
  {
   "cell_type": "markdown",
   "id": "8f243ba3",
   "metadata": {},
   "source": [
    "## Objetivos"
   ]
  },
  {
   "cell_type": "markdown",
   "id": "a2d6d24f",
   "metadata": {},
   "source": [
    "El objetivo general de este _notebook_ es el de enseñar cómo utilizar la herramienta **Tensorboard** para evaluar el entrenamiento de modelos de redes neuronales. Tras enseñar cómo arrancarlo dentro de nuestro notebook (es una herramienta externa que se puede usar independientemente desde la terminal), probaremos a detectar problemas de _exploding gradients_ y _vanishing gradients_."
   ]
  },
  {
   "cell_type": "markdown",
   "id": "67582fcc",
   "metadata": {},
   "source": [
    "## Bibliotecas y configuración\n",
    "\n",
    "A continuación importaremos las bibliotecas que se utilizarán a lo largo del _notebook_."
   ]
  },
  {
   "cell_type": "code",
   "execution_count": 2,
   "id": "58374f16",
   "metadata": {},
   "outputs": [],
   "source": [
    "import datetime\n",
    "\n",
    "import tensorflow as tf\n",
    "\n",
    "import os\n",
    "\n",
    "os.environ['TENSORBOARD_BINARY'] = r'C:\\Users\\andro\\AppData\\Roaming\\Python\\Python39\\Scripts\\tensorboard.exe'#r'c:\\users\\andro\\appdata\\roaming\\python\\python39\\site-packages\\tensorboard'"
   ]
  },
  {
   "cell_type": "markdown",
   "id": "06541e93",
   "metadata": {},
   "source": [
    "***"
   ]
  },
  {
   "cell_type": "markdown",
   "id": "a37fa74e",
   "metadata": {},
   "source": [
    "## Nuestro modelo de ejemplo"
   ]
  },
  {
   "cell_type": "markdown",
   "id": "a9aec0b7",
   "metadata": {},
   "source": [
    "Para este ejemplo, crearemos un modelo para resolver el problema MNIST que ya vimos en el ejercicio anterior."
   ]
  },
  {
   "cell_type": "code",
   "execution_count": 3,
   "id": "fc4a3e3b",
   "metadata": {},
   "outputs": [
    {
     "name": "stdout",
     "output_type": "stream",
     "text": [
      "Model: \"sequential\"\n",
      "_________________________________________________________________\n",
      " Layer (type)                Output Shape              Param #   \n",
      "=================================================================\n",
      " flatten (Flatten)           (None, 784)               0         \n",
      "                                                                 \n",
      " dense (Dense)               (None, 128)               100480    \n",
      "                                                                 \n",
      " dense_1 (Dense)             (None, 10)                1290      \n",
      "                                                                 \n",
      "=================================================================\n",
      "Total params: 101,770\n",
      "Trainable params: 101,770\n",
      "Non-trainable params: 0\n",
      "_________________________________________________________________\n"
     ]
    }
   ],
   "source": [
    "(x_train, y_train), (x_test, y_test) = tf.keras.datasets.mnist.load_data()\n",
    "\n",
    "x_train, x_test = x_train / 255, x_test / 255\n",
    "y_train = tf.keras.utils.to_categorical(y_train, num_classes=10)\n",
    "y_test = tf.keras.utils.to_categorical(y_test, num_classes=10)\n",
    "\n",
    "model = tf.keras.models.Sequential([\n",
    "    tf.keras.layers.Flatten(input_shape=(28, 28)),\n",
    "    tf.keras.layers.Dense(128, activation='sigmoid'),\n",
    "    tf.keras.layers.Dense(10, activation='softmax')\n",
    "])\n",
    "\n",
    "model.compile(loss=\"categorical_crossentropy\", optimizer=\"sgd\", metrics = ['accuracy'])\n",
    "model.summary()"
   ]
  },
  {
   "cell_type": "markdown",
   "id": "66883758",
   "metadata": {},
   "source": [
    "## Cargando TensorBoard"
   ]
  },
  {
   "cell_type": "markdown",
   "id": "87ac64d8",
   "metadata": {},
   "source": [
    "Para inicializar tensorboard basta con cargarlo como módulo externo:"
   ]
  },
  {
   "cell_type": "code",
   "execution_count": 4,
   "id": "2edcdc91",
   "metadata": {},
   "outputs": [],
   "source": [
    "%reload_ext tensorboard"
   ]
  },
  {
   "cell_type": "markdown",
   "id": "402f7e62",
   "metadata": {},
   "source": [
    "Luego, tenemos que crear un callback que irá actualizando los valores del modelo según vamos trabajando con él:"
   ]
  },
  {
   "cell_type": "code",
   "execution_count": 5,
   "id": "8dac8b23",
   "metadata": {},
   "outputs": [],
   "source": [
    "log_dir = f'logs/{datetime.datetime.now().strftime(\"%Y%m%d-%H%M%S\")}'\n",
    "tb_callback = tf.keras.callbacks.TensorBoard(log_dir=log_dir, histogram_freq=1)"
   ]
  },
  {
   "cell_type": "markdown",
   "id": "67f95be9",
   "metadata": {},
   "source": [
    "Una vez cargado el módulo y creado el _callback_ que usará `tensorboard`, pasamos a arrancarlo."
   ]
  },
  {
   "cell_type": "code",
   "execution_count": 6,
   "id": "3b053640",
   "metadata": {},
   "outputs": [
    {
     "data": {
      "text/html": [
       "\n",
       "      <iframe id=\"tensorboard-frame-93d688e72dde7b02\" width=\"100%\" height=\"800\" frameborder=\"0\">\n",
       "      </iframe>\n",
       "      <script>\n",
       "        (function() {\n",
       "          const frame = document.getElementById(\"tensorboard-frame-93d688e72dde7b02\");\n",
       "          const url = new URL(\"/\", window.location);\n",
       "          const port = 6006;\n",
       "          if (port) {\n",
       "            url.port = port;\n",
       "          }\n",
       "          frame.src = url;\n",
       "        })();\n",
       "      </script>\n",
       "    "
      ],
      "text/plain": [
       "<IPython.core.display.HTML object>"
      ]
     },
     "metadata": {},
     "output_type": "display_data"
    }
   ],
   "source": [
    "#%tensorboard --logdir $log_dir\n",
    "\n",
    "%tensorboard --logdir $log_dir"
   ]
  },
  {
   "cell_type": "markdown",
   "id": "04b11c18",
   "metadata": {},
   "source": [
    "En este momento, tensorboard está escuchando en el directorio de log (donde se están almacenando _loss_ y demás métricas) y actualizándose cada 30 segundos.\n",
    "\n",
    "Ya podemos entrenar y ver cómo va evolucionando el entrenamiento de nuestro modelo en `tensorboard`:"
   ]
  },
  {
   "cell_type": "code",
   "execution_count": 31,
   "id": "13322dd9",
   "metadata": {},
   "outputs": [],
   "source": [
    "history = model.fit(x_train, y_train, epochs=25, validation_split=0.1, verbose=0, callbacks=[tb_callback])"
   ]
  },
  {
   "cell_type": "markdown",
   "id": "87fcb1c2",
   "metadata": {},
   "source": [
    "## Sobre los componentes"
   ]
  },
  {
   "cell_type": "markdown",
   "id": "d6d8992f",
   "metadata": {},
   "source": [
    "Ahora veremos los componentes principales que están disponibles en TensorBoard"
   ]
  },
  {
   "cell_type": "markdown",
   "id": "d2f9d2c6",
   "metadata": {},
   "source": [
    "### Grafos"
   ]
  },
  {
   "cell_type": "markdown",
   "id": "7a7362f3",
   "metadata": {},
   "source": [
    "Son elementos muy complicados de seguir según crece la complejidad del grafo.\n",
    "\n",
    "![Vista del grafo completo de nuestro ejemplo](Images/graph.png \"Vista del grafo completo de nuestro ejemplo\")\n",
    "\n",
    "La forma de conseguir que nos den una vista útil es hacer un trabajo previo de limpieza para estructurarlo.\n",
    "\n",
    "Los grafos nos pueden ayudar enormemente tanto para comprender el modelo con el que estamos trabajando, como a detectar errores de la topología del modelo.\n",
    "\n",
    "Algunas claves para interpretar el grafo:\n",
    "\n",
    "1. Los nodos con el mismo color implica que pertenecen a la misma estructura. Los grises, sin embargo, indican que cada uno de los nodos es único.\n",
    "2. Haciendo click en un nodo se ven más detalles\n",
    "3. Existe un botón que nos permite ver dependencias de cualquier nodo: `trace_input`"
   ]
  },
  {
   "cell_type": "markdown",
   "id": "d7a9f294",
   "metadata": {},
   "source": [
    "### Resúmenes (_summaries_)"
   ]
  },
  {
   "cell_type": "markdown",
   "id": "d546708e",
   "metadata": {},
   "source": [
    "Son un tipo de operador especial de tensorflow. Al igual que existen operadores como las operaciones algebráicas (e.g. sumas, restas, ...), existen operadores que toman como entrada un tensor del grafo y ofrecen como salida un conjunto de datos \"resumidos\".\n",
    "\n",
    "Por defecto, existen operadores resumen creados automáticamente (prácticamente todo gráfico que aparece aparte del grafo en TensorBoard es un operador de este tipo), aunque nosotros podemos crear tantos como necesitemos. Una vez estén creados, se volcarán en los logs, los cuales se leerán desde tensorboard.\n",
    "\n",
    "Ahora veremos algunos de los operadores más comunes:\n",
    "\n",
    "* `tf.summary.scalar`: Escriben valores individuales como la precisión, la pérdida, etcétera, mostrándolos en forma de gráfica.\n",
    "* `tf.summary.image`: Muestra una imagen, lo cual es muy útil para identificar si las entradas son correctas o si un modelo generativo está produciendo imágenes como las esperadas.\n",
    "* `tf.summary.audio`: Similar al operador anterior, pero para sonido.\n",
    "* `tf.summary.histogram`: Útil para trazar el histograma de un tensor no escalar, el cual muestra cómo la distribución del valor del tensor cambia con el tiempo. En el caso de DNN se utiliza comúnmente para comprobar la distribución de los pesos y los sesgos, ayudando a detectar comportamientos irregulares en los parámetros de la red."
   ]
  },
  {
   "cell_type": "markdown",
   "id": "696c3f97",
   "metadata": {},
   "source": [
    "## Vanishing gradients"
   ]
  },
  {
   "cell_type": "markdown",
   "id": "1b9c4e94",
   "metadata": {},
   "source": [
    "El gradiente es una medida de la dirección y la magnitud del cambio en la función de pérdida de la red neuronal, que se utiliza para ajustar los pesos de las conexiones de la red durante el proceso de entrenamiento.\n",
    "\n",
    "Si el gradiente es muy pequeño, esto puede llevar a problemas de _vanishing gradients_, donde los pesos de las conexiones de la red se actualizan en pequeños saltos que pueden hacer que la red se estanque en un mínimo local y no pueda aprender patrones más complejos.\n",
    "\n",
    "Vamos a hacer un ejercicio para identificar cómo nuestro modelo está sufriendo un problema de _vanishing gradients_. Terminaremos primero con el proceso anterior de `tensorboard`."
   ]
  },
  {
   "cell_type": "code",
   "execution_count": 32,
   "id": "16095c8f",
   "metadata": {},
   "outputs": [
    {
     "name": "stderr",
     "output_type": "stream",
     "text": [
      "\"kill\" no se reconoce como un comando interno o externo,\n",
      "programa o archivo por lotes ejecutable.\n"
     ]
    }
   ],
   "source": [
    "!kill $(ps -e | grep 'tensorboard' | awk '{print $1}')"
   ]
  },
  {
   "cell_type": "markdown",
   "id": "f54b6709",
   "metadata": {},
   "source": [
    "Ahora crearemos un modelo diferente y lanzaremos un nuevo tensorboard para evaluar el entrenamiento."
   ]
  },
  {
   "cell_type": "code",
   "execution_count": 33,
   "id": "7a483ca3",
   "metadata": {},
   "outputs": [
    {
     "name": "stdout",
     "output_type": "stream",
     "text": [
      "Model: \"sequential_2\"\n",
      "_________________________________________________________________\n",
      " Layer (type)                Output Shape              Param #   \n",
      "=================================================================\n",
      " flatten_2 (Flatten)         (None, 784)               0         \n",
      "                                                                 \n",
      " dense_4 (Dense)             (None, 5)                 3925      \n",
      "                                                                 \n",
      " dense_5 (Dense)             (None, 5)                 30        \n",
      "                                                                 \n",
      " dense_6 (Dense)             (None, 5)                 30        \n",
      "                                                                 \n",
      " dense_7 (Dense)             (None, 5)                 30        \n",
      "                                                                 \n",
      " dense_8 (Dense)             (None, 5)                 30        \n",
      "                                                                 \n",
      " dense_9 (Dense)             (None, 10)                60        \n",
      "                                                                 \n",
      "=================================================================\n",
      "Total params: 4,105\n",
      "Trainable params: 4,105\n",
      "Non-trainable params: 0\n",
      "_________________________________________________________________\n"
     ]
    },
    {
     "data": {
      "text/html": [
       "\n",
       "      <iframe id=\"tensorboard-frame-80bcc09a491aadae\" width=\"100%\" height=\"800\" frameborder=\"0\">\n",
       "      </iframe>\n",
       "      <script>\n",
       "        (function() {\n",
       "          const frame = document.getElementById(\"tensorboard-frame-80bcc09a491aadae\");\n",
       "          const url = new URL(\"/\", window.location);\n",
       "          const port = 6006;\n",
       "          if (port) {\n",
       "            url.port = port;\n",
       "          }\n",
       "          frame.src = url;\n",
       "        })();\n",
       "      </script>\n",
       "    "
      ],
      "text/plain": [
       "<IPython.core.display.HTML object>"
      ]
     },
     "metadata": {},
     "output_type": "display_data"
    }
   ],
   "source": [
    "model = tf.keras.models.Sequential([\n",
    "    tf.keras.layers.Flatten(input_shape=(28, 28)),\n",
    "    tf.keras.layers.Dense(5, activation='tanh'),\n",
    "    tf.keras.layers.Dense(5, activation='tanh'),\n",
    "    tf.keras.layers.Dense(5, activation='tanh'),\n",
    "    tf.keras.layers.Dense(5, activation='tanh'),\n",
    "    tf.keras.layers.Dense(5, activation='tanh'),\n",
    "    tf.keras.layers.Dense(10, activation='softmax')\n",
    "])\n",
    "\n",
    "model.compile(loss=\"categorical_crossentropy\", optimizer=\"sgd\", metrics = ['accuracy'])\n",
    "model.summary()\n",
    "\n",
    "log_dir = f'logs/{datetime.datetime.now().strftime(\"%Y%m%d-%H%M%S\")}'\n",
    "tb_callback = tf.keras.callbacks.TensorBoard(log_dir=log_dir, histogram_freq=1)\n",
    "\n",
    "%tensorboard --logdir $log_dir"
   ]
  },
  {
   "cell_type": "markdown",
   "id": "7b83482f",
   "metadata": {},
   "source": [
    "Vamos con el entrenamieto para ver cómo evoluciona."
   ]
  },
  {
   "cell_type": "code",
   "execution_count": 34,
   "id": "9aaca458",
   "metadata": {},
   "outputs": [],
   "source": [
    "history = model.fit(x_train, y_train, epochs=25, validation_split=0.1, verbose=0, callbacks=[tb_callback])"
   ]
  },
  {
   "cell_type": "markdown",
   "id": "a1608783",
   "metadata": {},
   "source": [
    "## Exploiding gradients"
   ]
  },
  {
   "cell_type": "markdown",
   "id": "1b4370b8",
   "metadata": {},
   "source": [
    "Si el gradiente es muy grande, esto puede llevar a problemas de _exploding gradients_, donde los pesos de las conexiones de la red se actualizan en grandes saltos que pueden hacer que la red no pueda converger a una solución óptima.\n",
    "\n",
    "Comenzaremos finalizando el proceso de tensorboard anterior para poder lanzar posteriormente uno nuevo."
   ]
  },
  {
   "cell_type": "code",
   "execution_count": null,
   "id": "c355d9b8",
   "metadata": {},
   "outputs": [],
   "source": [
    "!kill $(ps -e | grep 'tensorboard' | awk '{print $1}')"
   ]
  },
  {
   "cell_type": "markdown",
   "id": "a916a637",
   "metadata": {},
   "source": [
    "Ya que este problema es poco común (aunque pasa) en redes poco profundas, en nuestro ejemplo actual es difícil conseguir el efecto deseado. Lo intentaremos trucando las entradas para que sean mayores de lo que deberían, forzando a que los valores que viajan por la red sean muy altos."
   ]
  },
  {
   "cell_type": "code",
   "execution_count": 35,
   "id": "bc1615e7",
   "metadata": {},
   "outputs": [],
   "source": [
    "x_train, y_train = x_train * 10, y_train * 10"
   ]
  },
  {
   "cell_type": "markdown",
   "id": "c4e2d4c8",
   "metadata": {},
   "source": [
    "Ahora entrenaremos un modelo con estas entradas para que nos intente dar las salidas esperadas:"
   ]
  },
  {
   "cell_type": "code",
   "execution_count": 1,
   "id": "558898f6",
   "metadata": {},
   "outputs": [
    {
     "ename": "NameError",
     "evalue": "name 'tf' is not defined",
     "output_type": "error",
     "traceback": [
      "\u001b[1;31m---------------------------------------------------------------------------\u001b[0m",
      "\u001b[1;31mNameError\u001b[0m                                 Traceback (most recent call last)",
      "Cell \u001b[1;32mIn[1], line 1\u001b[0m\n\u001b[1;32m----> 1\u001b[0m model \u001b[38;5;241m=\u001b[39m \u001b[43mtf\u001b[49m\u001b[38;5;241m.\u001b[39mkeras\u001b[38;5;241m.\u001b[39mmodels\u001b[38;5;241m.\u001b[39mSequential([\n\u001b[0;32m      2\u001b[0m     tf\u001b[38;5;241m.\u001b[39mkeras\u001b[38;5;241m.\u001b[39mlayers\u001b[38;5;241m.\u001b[39mFlatten(input_shape\u001b[38;5;241m=\u001b[39m(\u001b[38;5;241m28\u001b[39m, \u001b[38;5;241m28\u001b[39m)),\n\u001b[0;32m      3\u001b[0m     tf\u001b[38;5;241m.\u001b[39mkeras\u001b[38;5;241m.\u001b[39mlayers\u001b[38;5;241m.\u001b[39mDense(\u001b[38;5;241m5\u001b[39m, activation\u001b[38;5;241m=\u001b[39m\u001b[38;5;124m'\u001b[39m\u001b[38;5;124mrelu\u001b[39m\u001b[38;5;124m'\u001b[39m, kernel_initializer\u001b[38;5;241m=\u001b[39m\u001b[38;5;124m'\u001b[39m\u001b[38;5;124mhe_uniform\u001b[39m\u001b[38;5;124m'\u001b[39m),\n\u001b[0;32m      4\u001b[0m     tf\u001b[38;5;241m.\u001b[39mkeras\u001b[38;5;241m.\u001b[39mlayers\u001b[38;5;241m.\u001b[39mDense(\u001b[38;5;241m5\u001b[39m, activation\u001b[38;5;241m=\u001b[39m\u001b[38;5;124m'\u001b[39m\u001b[38;5;124mrelu\u001b[39m\u001b[38;5;124m'\u001b[39m, kernel_initializer\u001b[38;5;241m=\u001b[39m\u001b[38;5;124m'\u001b[39m\u001b[38;5;124mhe_uniform\u001b[39m\u001b[38;5;124m'\u001b[39m),\n\u001b[0;32m      5\u001b[0m     tf\u001b[38;5;241m.\u001b[39mkeras\u001b[38;5;241m.\u001b[39mlayers\u001b[38;5;241m.\u001b[39mDense(\u001b[38;5;241m5\u001b[39m, activation\u001b[38;5;241m=\u001b[39m\u001b[38;5;124m'\u001b[39m\u001b[38;5;124mrelu\u001b[39m\u001b[38;5;124m'\u001b[39m, kernel_initializer\u001b[38;5;241m=\u001b[39m\u001b[38;5;124m'\u001b[39m\u001b[38;5;124mhe_uniform\u001b[39m\u001b[38;5;124m'\u001b[39m),\n\u001b[0;32m      6\u001b[0m     tf\u001b[38;5;241m.\u001b[39mkeras\u001b[38;5;241m.\u001b[39mlayers\u001b[38;5;241m.\u001b[39mDense(\u001b[38;5;241m5\u001b[39m, activation\u001b[38;5;241m=\u001b[39m\u001b[38;5;124m'\u001b[39m\u001b[38;5;124mrelu\u001b[39m\u001b[38;5;124m'\u001b[39m, kernel_initializer\u001b[38;5;241m=\u001b[39m\u001b[38;5;124m'\u001b[39m\u001b[38;5;124mhe_uniform\u001b[39m\u001b[38;5;124m'\u001b[39m),\n\u001b[0;32m      7\u001b[0m     tf\u001b[38;5;241m.\u001b[39mkeras\u001b[38;5;241m.\u001b[39mlayers\u001b[38;5;241m.\u001b[39mDense(\u001b[38;5;241m5\u001b[39m, activation\u001b[38;5;241m=\u001b[39m\u001b[38;5;124m'\u001b[39m\u001b[38;5;124mrelu\u001b[39m\u001b[38;5;124m'\u001b[39m, kernel_initializer\u001b[38;5;241m=\u001b[39m\u001b[38;5;124m'\u001b[39m\u001b[38;5;124mhe_uniform\u001b[39m\u001b[38;5;124m'\u001b[39m),\n\u001b[0;32m      8\u001b[0m     tf\u001b[38;5;241m.\u001b[39mkeras\u001b[38;5;241m.\u001b[39mlayers\u001b[38;5;241m.\u001b[39mDense(\u001b[38;5;241m10\u001b[39m, activation\u001b[38;5;241m=\u001b[39m\u001b[38;5;124m'\u001b[39m\u001b[38;5;124msoftmax\u001b[39m\u001b[38;5;124m'\u001b[39m)\n\u001b[0;32m      9\u001b[0m ])\n\u001b[0;32m     11\u001b[0m model\u001b[38;5;241m.\u001b[39mcompile(loss\u001b[38;5;241m=\u001b[39m\u001b[38;5;124m\"\u001b[39m\u001b[38;5;124mcategorical_crossentropy\u001b[39m\u001b[38;5;124m\"\u001b[39m, optimizer\u001b[38;5;241m=\u001b[39m\u001b[38;5;124m\"\u001b[39m\u001b[38;5;124msgd\u001b[39m\u001b[38;5;124m\"\u001b[39m, metrics \u001b[38;5;241m=\u001b[39m [\u001b[38;5;124m'\u001b[39m\u001b[38;5;124maccuracy\u001b[39m\u001b[38;5;124m'\u001b[39m])\n\u001b[0;32m     12\u001b[0m model\u001b[38;5;241m.\u001b[39msummary()\n",
      "\u001b[1;31mNameError\u001b[0m: name 'tf' is not defined"
     ]
    }
   ],
   "source": [
    "model = tf.keras.models.Sequential([\n",
    "    tf.keras.layers.Flatten(input_shape=(28, 28)),\n",
    "    tf.keras.layers.Dense(5, activation='relu', kernel_initializer='he_uniform'),\n",
    "    tf.keras.layers.Dense(5, activation='relu', kernel_initializer='he_uniform'),\n",
    "    tf.keras.layers.Dense(5, activation='relu', kernel_initializer='he_uniform'),\n",
    "    tf.keras.layers.Dense(5, activation='relu', kernel_initializer='he_uniform'),\n",
    "    tf.keras.layers.Dense(5, activation='relu', kernel_initializer='he_uniform'),\n",
    "    tf.keras.layers.Dense(10, activation='softmax')\n",
    "])\n",
    "\n",
    "model.compile(loss=\"categorical_crossentropy\", optimizer=\"sgd\", metrics = ['accuracy'])\n",
    "model.summary()\n",
    "\n",
    "log_dir = f'logs/{datetime.datetime.now().strftime(\"%Y%m%d-%H%M%S\")}'\n",
    "tb_callback = tf.keras.callbacks.TensorBoard(log_dir=log_dir, histogram_freq=1)\n",
    "%tensorboard --logdir $log_dir"
   ]
  },
  {
   "cell_type": "markdown",
   "id": "6a0a5b0f",
   "metadata": {},
   "source": [
    "Ahora entrenaremos nuestro modelo."
   ]
  },
  {
   "cell_type": "code",
   "execution_count": 37,
   "id": "cb814b24",
   "metadata": {},
   "outputs": [],
   "source": [
    "history = model.fit(x_train, y_train, epochs=25, validation_split=0.1, verbose=0, callbacks=[tb_callback])"
   ]
  },
  {
   "cell_type": "markdown",
   "id": "b05096b5",
   "metadata": {},
   "source": [
    "## Conclusiones"
   ]
  },
  {
   "cell_type": "markdown",
   "id": "bd65fcd4",
   "metadata": {},
   "source": [
    "Este notebook ha sido intenso, pero en él hemos visto las principales diferencias de los dos tipos de problema que nos encontraremos en problemas de aprendizaje profundo: clasificación y regresión. Los modelos desarrollados para éstos son muy parecidos, varían básicamente en la salida y su cálculo del error.\n",
    "\n",
    "También, para la evaluación de estos modelos hemos presentado algunas medidas, unas específicas para clasificación y otras para regresión. Hay algunas que no hemos explicado (e.g. entropía cruzada) pero hemos preferido quedarnos en las más comunes. Una cosa buena es que prácticamente todos los frameworks incluyen estas implementaciones, seguramente mucho mejor de lo que las podamos implementar nosotros. Sin embargo, es muy importante es saber cómo estamos midiendo y qué significan esas mediciones."
   ]
  },
  {
   "cell_type": "markdown",
   "id": "582efec2",
   "metadata": {},
   "source": [
    "***\n",
    "\n",
    "<div><img style=\"float: right; width: 120px; vertical-align:top\" src=\"https://mirrors.creativecommons.org/presskit/buttons/88x31/png/by-nc-sa.png\" alt=\"Creative Commons by-nc-sa logo\" />\n",
    "\n",
    "[Volver al inicio](#top)\n",
    "\n",
    "</div>"
   ]
  }
 ],
 "metadata": {
  "kernelspec": {
   "display_name": "Python 3 (ipykernel)",
   "language": "python",
   "name": "python3"
  },
  "language_info": {
   "codemirror_mode": {
    "name": "ipython",
    "version": 3
   },
   "file_extension": ".py",
   "mimetype": "text/x-python",
   "name": "python",
   "nbconvert_exporter": "python",
   "pygments_lexer": "ipython3",
   "version": "3.9.5"
  }
 },
 "nbformat": 4,
 "nbformat_minor": 5
}
